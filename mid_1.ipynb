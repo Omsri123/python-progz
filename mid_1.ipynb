{
  "nbformat": 4,
  "nbformat_minor": 0,
  "metadata": {
    "colab": {
      "name": "mid#1.ipynb",
      "provenance": [],
      "authorship_tag": "ABX9TyMlT60riu9BoLT0BFrxhEZQ",
      "include_colab_link": true
    },
    "kernelspec": {
      "name": "python3",
      "display_name": "Python 3"
    },
    "language_info": {
      "name": "python"
    }
  },
  "cells": [
    {
      "cell_type": "markdown",
      "metadata": {
        "id": "view-in-github",
        "colab_type": "text"
      },
      "source": [
        "<a href=\"https://colab.research.google.com/github/Omsri123/python-progz/blob/module_2/mid_1.ipynb\" target=\"_parent\"><img src=\"https://colab.research.google.com/assets/colab-badge.svg\" alt=\"Open In Colab\"/></a>"
      ]
    },
    {
      "cell_type": "markdown",
      "source": [
        "##### print all primes in a given range"
      ],
      "metadata": {
        "id": "W8LokhZIadh_"
      }
    },
    {
      "cell_type": "code",
      "execution_count": null,
      "metadata": {
        "id": "pH_MVlk_aZX6"
      },
      "outputs": [],
      "source": [
        "def prime(a,b):\n",
        "    for i in range(a, b + 1):\n",
        "        if (i == 1):\n",
        "            continue\n",
        "        x = 1  \n",
        "        for j in range(2, i // 2 + 1):\n",
        "            if (i % j == 0):\n",
        "                x = 0\n",
        "                break\n",
        "        if (x == 1):\n",
        "            print(i)\n",
        "\n",
        "a=int(input(\"Enter 1st number \"))\n",
        "b=int(input(\"Enter 2nd number \"))\n",
        "prime(a,b)"
      ]
    },
    {
      "cell_type": "markdown",
      "source": [
        "##### read any month (in integer) and display days in that month"
      ],
      "metadata": {
        "id": "LLfSRCaaam5d"
      }
    },
    {
      "cell_type": "code",
      "source": [
        "n=int(input(\"Enter month number \"))\n",
        "if n== 1 or n==3 or n==5 or n==7 or n==8 or n==10 or n==12 :\n",
        "  print(\"No. of days are 31\")\n",
        "elif n== 4 or n==6 or n==9 or n==11 :\n",
        "  print(\"No. of days are 30\")\n",
        "elif n==2 :\n",
        "  print(\"No. of days are 28(if not leap year)\\nNo. of days are 29(if it's a leap year\")\n",
        "else :\n",
        "  print(\"Invalid entry\")"
      ],
      "metadata": {
        "id": "xeFnnwWga3_k"
      },
      "execution_count": null,
      "outputs": []
    },
    {
      "cell_type": "markdown",
      "source": [
        "##### print even length words in a string"
      ],
      "metadata": {
        "id": "2qzg94yfa5E8"
      }
    },
    {
      "cell_type": "code",
      "source": [
        "s=list(map(str, input().rstrip().split()))\n",
        "for i in range (len(s)) :\n",
        "  if len(s[i])%2==0 :\n",
        "    print(s[i])"
      ],
      "metadata": {
        "id": "pNiIAiDnbJVc"
      },
      "execution_count": null,
      "outputs": []
    },
    {
      "cell_type": "markdown",
      "source": [
        "##### Capitalize 1st and last letter of each word"
      ],
      "metadata": {
        "id": "jcS9Nm6ubp48"
      }
    },
    {
      "cell_type": "code",
      "source": [
        "a=input()\n",
        "a=a.split(\" \")\n",
        "for i in a:\n",
        "  a=i.capitalize()\n",
        "  b=i[-1].capitalize()\n",
        "  s=a[0:-1]+b\n",
        "  print(s, end =\" \")"
      ],
      "metadata": {
        "id": "-ExvJVK3bypE"
      },
      "execution_count": null,
      "outputs": []
    },
    {
      "cell_type": "markdown",
      "source": [
        "##### read string from user display 1st letter of each word with capital"
      ],
      "metadata": {
        "id": "jRWi-FR2b458"
      }
    },
    {
      "cell_type": "code",
      "source": [
        "a=input()\n",
        "a=a.split(\" \")\n",
        "for i in a: \n",
        "  s=i.capitalize()\n",
        "  print(s, end =\" \")"
      ],
      "metadata": {
        "id": "KA2Ghr5ycY3d"
      },
      "execution_count": null,
      "outputs": []
    },
    {
      "cell_type": "markdown",
      "source": [
        "##### convert a list of multiple integers to single integer"
      ],
      "metadata": {
        "id": "MQEEhrDUccZ8"
      }
    },
    {
      "cell_type": "code",
      "source": [
        "a=list(map(int, input().rstrip().split()))\n",
        "for i in a :\n",
        "  print(i,end=\"\")"
      ],
      "metadata": {
        "id": "Ydpe4qlLcqYe"
      },
      "execution_count": null,
      "outputs": []
    },
    {
      "cell_type": "markdown",
      "source": [
        "##### to find power of number using recursions"
      ],
      "metadata": {
        "id": "PY27vGssJ6rF"
      }
    },
    {
      "cell_type": "code",
      "source": [
        "def power(n,p):\n",
        "  if p==0 :\n",
        "    return 1\n",
        "  else :\n",
        "    return (n*power(n,p-1))\n",
        "\n",
        "n=int(input(\"Enter a number \"))\n",
        "p=int(input(\"Enter power \"))\n",
        "r= power(n,p)\n",
        "print(f\"n^p = {r}\")"
      ],
      "metadata": {
        "id": "S1UfUUIjKCLZ"
      },
      "execution_count": null,
      "outputs": []
    },
    {
      "cell_type": "markdown",
      "source": [
        "##### sort tupples bt total digits\n"
      ],
      "metadata": {
        "id": "euKAE7vTKCqo"
      }
    },
    {
      "cell_type": "code",
      "source": [
        "lt=[(3,4,6,729),(1,2),(134,234,34)]\n",
        "lt.sort()\n",
        "print(lt)"
      ],
      "metadata": {
        "id": "j2fh7ILFKQtn"
      },
      "execution_count": null,
      "outputs": []
    },
    {
      "cell_type": "markdown",
      "source": [
        "##### take 5 subject marks and display grade\n",
        "if avg>=90 : o\n",
        "      >=80:A+\n",
        "      >=70 : A\n",
        "      >=60 :B+\n",
        "      <40 : FAIL"
      ],
      "metadata": {
        "id": "s12GtovsKoqI"
      }
    },
    {
      "cell_type": "code",
      "source": [
        "a=list(map(int, input(\"Enter 5 subject marks \").rstrip().split()))\n",
        "s=sum(a)\n",
        "avg= s/5\n",
        "if avg>=90 :\n",
        "  print(\"O\")\n",
        "elif avg>=80:\n",
        "  print(\"A+\")\n",
        "elif avg >=70:\n",
        "  print(\"A\")\n",
        "elif avg >=60 :\n",
        "  print(\"B+\")\n",
        "elif avg >=50 :\n",
        "  print(\"B\")\n",
        "elif avg >=40 :\n",
        "  print(\"Pass\")\n",
        "elif avg <40 :\n",
        "  print(\"Fail\")"
      ],
      "metadata": {
        "id": "Ppv19ifYK_0S"
      },
      "execution_count": null,
      "outputs": []
    },
    {
      "cell_type": "markdown",
      "source": [
        "##### PRINT 1 IF ALL THREE GIVEN NUMBERS ARE IN ASCENDING ORDER OR PRINT 0"
      ],
      "metadata": {
        "id": "K6oUSZmCLel_"
      }
    },
    {
      "cell_type": "code",
      "source": [
        "a=list(map(int, input(\"Enter number \").rstrip().split()))\n",
        "b=[]\n",
        "b.extend(a)\n",
        "a.sort()\n",
        "if a==b :\n",
        "  print(1)\n",
        "else :\n",
        "  print(0)"
      ],
      "metadata": {
        "id": "mJrkMZRtLqGe"
      },
      "execution_count": null,
      "outputs": []
    },
    {
      "cell_type": "markdown",
      "source": [
        "##### CHECK IF GIVEN NUMBER IS PERFECT OR NOT"
      ],
      "metadata": {
        "id": "DvBfsP1NLtlf"
      }
    },
    {
      "cell_type": "code",
      "source": [
        "a=int(input(\"Enter a number \"))\n",
        "s=0\n",
        "for i in range (1,a):\n",
        "  if a%i==0 :\n",
        "    s+=i\n",
        "if s==a:\n",
        "  print(\"It's perfect\")\n",
        "else:\n",
        "  print(\"It's not perfect\")"
      ],
      "metadata": {
        "id": "lYb_2T7VL7bP"
      },
      "execution_count": null,
      "outputs": []
    },
    {
      "cell_type": "markdown",
      "source": [
        "##### check for palindrome or not"
      ],
      "metadata": {
        "id": "VIJnzKnXL8F_"
      }
    },
    {
      "cell_type": "code",
      "source": [
        "a=input(\"enter a word \")\n",
        "b=a[::-1]\n",
        "if a==b:\n",
        "  print(\"it's a plaindrome\")\n",
        "else :\n",
        "  print(\"it's not a palindrome\")"
      ],
      "metadata": {
        "id": "1z3csQUsMSLv"
      },
      "execution_count": null,
      "outputs": []
    },
    {
      "cell_type": "markdown",
      "source": [
        "##### sum of even digits in a number"
      ],
      "metadata": {
        "id": "qR-2BifEMSeo"
      }
    },
    {
      "cell_type": "code",
      "source": [
        "a=int(input(\"Enter a number \"))\n",
        "s=0\n",
        "for i in range (a):\n",
        "  r=a%10\n",
        "  if r%2==0 :\n",
        "    s+=r\n",
        "  a=a//10\n",
        "print(s)"
      ],
      "metadata": {
        "id": "9IXK4KHRNfIX"
      },
      "execution_count": null,
      "outputs": []
    },
    {
      "cell_type": "markdown",
      "source": [
        "##### calculate sum of squares of digits of number given by user input"
      ],
      "metadata": {
        "id": "NzLlx-xdNfaP"
      }
    },
    {
      "cell_type": "code",
      "source": [
        "a=int(input(\"Enter a number \"))\n",
        "s=0\n",
        "for i in range (a):\n",
        "  r=a%10\n",
        "  r=r*r\n",
        "  s+=r\n",
        "  a=a//10\n",
        "print(s)"
      ],
      "metadata": {
        "id": "d0_ZNvANNxGo"
      },
      "execution_count": null,
      "outputs": []
    },
    {
      "cell_type": "markdown",
      "source": [
        "##### Given a string count front back matches"
      ],
      "metadata": {
        "id": "wEx9ulAwNxXm"
      }
    },
    {
      "cell_type": "code",
      "source": [
        "a=input(\"Enter a word \")\n",
        "s=0\n",
        "l=len(a)//2\n",
        "for i in range(l):\n",
        "  x=a[i]\n",
        "  y=a[-(i+1)]\n",
        "  if x==y :\n",
        "    s+=1\n",
        "\n",
        "print(s)"
      ],
      "metadata": {
        "id": "wbVbeiF_OeuO"
      },
      "execution_count": null,
      "outputs": []
    },
    {
      "cell_type": "markdown",
      "source": [
        "##### given an integer print like (inp:4 out: 1 2 2 3 3 3 4 4 4 4)"
      ],
      "metadata": {
        "id": "852wIMQDOfGI"
      }
    },
    {
      "cell_type": "code",
      "source": [
        "n=int(input(\"enter your number :\"))\n",
        "a=[]\n",
        "for i in range (n+1):\n",
        "  for j in range (i):\n",
        "    a.append(i)\n",
        "\n",
        "print(a)"
      ],
      "metadata": {
        "id": "dCMqllmzO4A3"
      },
      "execution_count": null,
      "outputs": []
    },
    {
      "cell_type": "markdown",
      "source": [
        "##### print number of vowels and consonants"
      ],
      "metadata": {
        "id": "-K62IddFPkBX"
      }
    },
    {
      "cell_type": "code",
      "source": [
        "a=input(\"Enter a word \")\n",
        "a=a.lower()\n",
        "c,v=0,0\n",
        "if a.isalpha() :\n",
        "  for i in range (len(a)):\n",
        "    if a[i]==\"a\" or a[i]==\"e\" or a[i]==\"i\" or a[i]==\"o\" or a[i]==\"u\" :\n",
        "      v+=1\n",
        "    else :\n",
        "      c+=1\n",
        "  print(f\"vowels are {v} and consonants are {c}\")\n",
        "else :\n",
        "  print(\"Not possible\")"
      ],
      "metadata": {
        "id": "1q9_W05wPsWu"
      },
      "execution_count": null,
      "outputs": []
    },
    {
      "cell_type": "markdown",
      "source": [
        "##### given a,b if a < b , print in ascending ; if a > b print in descending values b/w a & b "
      ],
      "metadata": {
        "id": "MKFWyaG5PssW"
      }
    },
    {
      "cell_type": "code",
      "source": [
        "a= int(input(\"enter a :\"))\n",
        "b= int(input(\"enter b :\"))\n",
        "if a < b :\n",
        "  for i in range (a,b+1):\n",
        "    print(i,end = \" \")\n",
        "if a > b :\n",
        "  while a>=b :\n",
        "    print(a, end = \" \")\n",
        "    a-=1"
      ],
      "metadata": {
        "id": "0jCr5UqCQEfO"
      },
      "execution_count": null,
      "outputs": []
    },
    {
      "cell_type": "markdown",
      "source": [
        "##### given list of string print if 1st and last letters of a string are same or not"
      ],
      "metadata": {
        "id": "S1s8QUNWQiSf"
      }
    },
    {
      "cell_type": "code",
      "source": [
        "a=input(\"Enter a word \")\n",
        "if a[0]==a[-1]:\n",
        "  print(\"Yes\")\n",
        "else :\n",
        "  print(\"No\")"
      ],
      "metadata": {
        "id": "KwSkXLE7Q94o"
      },
      "execution_count": null,
      "outputs": []
    },
    {
      "cell_type": "markdown",
      "source": [
        "##### take input no.of days ; no.of roundtrips if in a month no.of distance covered > 40000 print \"pickup\" if dc >40000 print \"good jab\"\n",
        "1 round trip = 6km "
      ],
      "metadata": {
        "id": "pT4D1Y-3RQM_"
      }
    },
    {
      "cell_type": "code",
      "source": [
        "a=int(input(\"Enter days \"))\n",
        "b=int(input(\"Enter round trips/day \"))\n",
        "c=a*b*6000\n",
        "if c>= 40000 :\n",
        "  print(\"Good job\")\n",
        "else :\n",
        "  print(\"Need to walk more\")"
      ],
      "metadata": {
        "id": "GMaZxNqOSpnu"
      },
      "execution_count": null,
      "outputs": []
    },
    {
      "cell_type": "markdown",
      "source": [
        "##### given list of students and a letter print all students whose name starts with that letter"
      ],
      "metadata": {
        "id": "y5AQ7NhQSp_e"
      }
    },
    {
      "cell_type": "code",
      "source": [
        "n=input(\"Enter letter to be verified \")\n",
        "n=n.lower()\n",
        "r=[]\n",
        "s=0\n",
        "for i in range(int(input(\"Enter no. of students \"))):\n",
        "  a=input(f\"Enter name of student no. {i+1} \")\n",
        "  a=a.lower()\n",
        "  p=a[0]\n",
        "  if n==p :\n",
        "    s+=1\n",
        "    r.append(a)\n",
        "\n",
        "print(f\"Total {s} students matched\\nThey are {r}\")"
      ],
      "metadata": {
        "id": "NN77w-nHS5J2"
      },
      "execution_count": null,
      "outputs": []
    },
    {
      "cell_type": "markdown",
      "source": [
        "##### Given list of cities and length print all cities whose length is > given length"
      ],
      "metadata": {
        "id": "MjCZd0MyS6Ke"
      }
    },
    {
      "cell_type": "code",
      "source": [
        "l=int(input(\"Enter length to be exceeded \"))\n",
        "u=[]\n",
        "for i in range(int(input(\"Enter no. of cities \"))):\n",
        "  c=input(f\"Enter name of city no.{i+1} \")\n",
        "  a=len(c)\n",
        "  if a>l:\n",
        "    u.append(c)\n",
        "\n",
        "print(f\"required cities are {u}\")"
      ],
      "metadata": {
        "id": "u0LnDoVOTLjO"
      },
      "execution_count": null,
      "outputs": []
    }
  ]
}