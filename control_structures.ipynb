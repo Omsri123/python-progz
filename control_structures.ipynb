{
  "nbformat": 4,
  "nbformat_minor": 0,
  "metadata": {
    "colab": {
      "name": "control structures.ipynb",
      "provenance": [],
      "authorship_tag": "ABX9TyO7DeMK7JaOFM37NKy3/OU6",
      "include_colab_link": true
    },
    "kernelspec": {
      "name": "python3",
      "display_name": "Python 3"
    },
    "language_info": {
      "name": "python"
    }
  },
  "cells": [
    {
      "cell_type": "markdown",
      "metadata": {
        "id": "view-in-github",
        "colab_type": "text"
      },
      "source": [
        "<a href=\"https://colab.research.google.com/github/Omsri123/python-progz/blob/module_1/control_structures.ipynb\" target=\"_parent\"><img src=\"https://colab.research.google.com/assets/colab-badge.svg\" alt=\"Open In Colab\"/></a>"
      ]
    },
    {
      "cell_type": "code",
      "execution_count": 4,
      "metadata": {
        "colab": {
          "base_uri": "https://localhost:8080/"
        },
        "id": "oZWTc19ZPkSK",
        "outputId": "c3977cef-c3d4-43d7-cbb9-b7f64bd4b387"
      },
      "outputs": [
        {
          "output_type": "stream",
          "name": "stdout",
          "text": [
            "enter age 18\n",
            "elgible for voting\n"
          ]
        }
      ],
      "source": [
        "#verify if elgible for voting\n",
        "a=int(input(\"enter age \"))\n",
        "if a>=18:\n",
        "  print(\"elgible for voting\")\n",
        "else:\n",
        "  print(\"not elgible for voting\")"
      ]
    },
    {
      "cell_type": "code",
      "source": [
        "#greatest number in 3\n",
        "a=int(input(\"enter 1st number \"))\n",
        "b=int(input(\"enter 2nd number \"))\n",
        "c=int(input(\"enter 3rd number \"))\n",
        "if (a>=b and a>=c):\n",
        "  print(\"a is greater \")\n",
        "elif b>=c :\n",
        "  print(\"b is greater \")\n",
        "else :\n",
        "  print(\"c is greater \")"
      ],
      "metadata": {
        "colab": {
          "base_uri": "https://localhost:8080/"
        },
        "id": "0qcnGLH8RWWm",
        "outputId": "2cb34b5d-5eb0-4c20-ad4e-5aa88771e353"
      },
      "execution_count": 8,
      "outputs": [
        {
          "output_type": "stream",
          "name": "stdout",
          "text": [
            "enter 1st number 0\n",
            "enter 2nd number 0\n",
            "enter 3rd number 0\n",
            "a is greater \n"
          ]
        }
      ]
    },
    {
      "cell_type": "code",
      "source": [
        "#greatest number in n\n",
        "n=int(input(\"enter number of numbers to be verified \"))\n",
        "i=2\n",
        "v=0\n",
        "max=int(input(\"enter 1 number \"))\n",
        "while (i<=n) :\n",
        "  v=int(input(f\"enter {i} number \"))\n",
        "  if v>max :\n",
        "    max=v\n",
        "  i+=1\n",
        "print(f\"greatest number is {max}\")"
      ],
      "metadata": {
        "colab": {
          "base_uri": "https://localhost:8080/"
        },
        "id": "m0S1t6K1TiHd",
        "outputId": "4b374d39-53d9-429e-ea08-115fc4848993"
      },
      "execution_count": 11,
      "outputs": [
        {
          "output_type": "stream",
          "name": "stdout",
          "text": [
            "enter number of numbers to be verified 4\n",
            "enter 1 number 5\n",
            "enter 2 number 1\n",
            "enter 3 number 9\n",
            "enter 4 number 2\n",
            "greatest number is 9\n"
          ]
        }
      ]
    },
    {
      "cell_type": "code",
      "source": [
        "#triangle verify\n",
        "a=int(input(\"enter 1st side \"))\n",
        "b=int(input(\"enter 2nd side \"))\n",
        "c=int(input(\"enter 3rd side \"))\n",
        "if a==b==c :\n",
        "  print(\"equilateral triangle\")\n",
        "elif a==b or a==c :\n",
        "  print(\"isoceles triangle\")\n",
        "else :\n",
        "  print(\"scalne triangle\")"
      ],
      "metadata": {
        "colab": {
          "base_uri": "https://localhost:8080/"
        },
        "id": "KsovvHnJW8GV",
        "outputId": "1e93f15d-94ed-4215-a6ef-d2b82c32db15"
      },
      "execution_count": 14,
      "outputs": [
        {
          "output_type": "stream",
          "name": "stdout",
          "text": [
            "enter 1st side 1\n",
            "enter 2nd side 2\n",
            "enter 3rd side 3\n",
            "scalne triangle\n"
          ]
        }
      ]
    },
    {
      "cell_type": "markdown",
      "source": [
        "leap year"
      ],
      "metadata": {
        "id": "d_-n0YAAX4m3"
      }
    },
    {
      "cell_type": "code",
      "source": [
        "a=int(input(\"enter year \"))\n",
        "if a%400==0 :\n",
        "  print(\"it's a leap year\")\n",
        "elif a%4==0 and a%100!=0 :\n",
        "  print(\"it's a leap year\")\n",
        "else :\n",
        "  print(\"not a leap year\")"
      ],
      "metadata": {
        "colab": {
          "base_uri": "https://localhost:8080/"
        },
        "id": "qDrPwvfmYFv0",
        "outputId": "a1d23775-5429-4498-f8bc-5cbb1782aadf"
      },
      "execution_count": 18,
      "outputs": [
        {
          "output_type": "stream",
          "name": "stdout",
          "text": [
            "enter year 2012\n",
            "it's a leap year\n"
          ]
        }
      ]
    },
    {
      "cell_type": "markdown",
      "source": [
        "minimum in 3"
      ],
      "metadata": {
        "id": "S4_xzzBMZeU9"
      }
    },
    {
      "cell_type": "code",
      "source": [
        "a=int(input(\"enter 1st number \"))\n",
        "b=int(input(\"enter 2nd number \"))\n",
        "c=int(input(\"enter 3rd number \"))\n",
        "if (a<=b and a<=c):\n",
        "  print(\"a is smallest \")\n",
        "elif b<=c :\n",
        "  print(\"b is smallest \")\n",
        "else :\n",
        "  print(\"c is smallest \")"
      ],
      "metadata": {
        "colab": {
          "base_uri": "https://localhost:8080/"
        },
        "id": "lW7dSylOZg60",
        "outputId": "cc8c250e-e411-4743-ac7c-596603687ea7"
      },
      "execution_count": 17,
      "outputs": [
        {
          "output_type": "stream",
          "name": "stdout",
          "text": [
            "enter 1st number 2\n",
            "enter 2nd number 1\n",
            "enter 3rd number 3\n",
            "b is smallest \n"
          ]
        }
      ]
    },
    {
      "cell_type": "markdown",
      "source": [
        "divisible by 5 and 11"
      ],
      "metadata": {
        "id": "lo6k6ajuZ_DD"
      }
    },
    {
      "cell_type": "code",
      "source": [
        "a=int(input(\"enter a number \"))\n",
        "if a%5==0 and a%11==0 :\n",
        "  print(\"divisible by both 5 and 11\")\n",
        "else :\n",
        "  print(\"not divisible by both 5 and 11\")"
      ],
      "metadata": {
        "colab": {
          "base_uri": "https://localhost:8080/"
        },
        "id": "47cs3LK-aFbZ",
        "outputId": "f6089d1a-8fa0-4044-9097-ab61391672ca"
      },
      "execution_count": 21,
      "outputs": [
        {
          "output_type": "stream",
          "name": "stdout",
          "text": [
            "enter a number 66\n",
            "not divisible by both 5 and 11\n"
          ]
        }
      ]
    },
    {
      "cell_type": "markdown",
      "source": [
        "positive||negative||0"
      ],
      "metadata": {
        "id": "BGm4Zkzed50s"
      }
    },
    {
      "cell_type": "code",
      "source": [
        "a = int(input(\"enter a number \"))\n",
        "if a>0 :\n",
        "  print (\"greater than 0\")\n",
        "elif a==0 :\n",
        "  print(\"equal to 0\")\n",
        "else :\n",
        "  print(\"less than 0\")"
      ],
      "metadata": {
        "colab": {
          "base_uri": "https://localhost:8080/"
        },
        "id": "BpLUlfHTd-tr",
        "outputId": "92969936-14db-4a40-ba03-cfdb3c35e3cc"
      },
      "execution_count": 24,
      "outputs": [
        {
          "output_type": "stream",
          "name": "stdout",
          "text": [
            "enter a number 5\n",
            "greater than 0\n"
          ]
        }
      ]
    }
  ]
}