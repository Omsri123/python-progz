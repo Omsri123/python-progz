{
  "nbformat": 4,
  "nbformat_minor": 0,
  "metadata": {
    "colab": {
      "name": "control structures.ipynb",
      "provenance": [],
      "authorship_tag": "ABX9TyPjR5bkoCzbNlY4JWygJ2xo",
      "include_colab_link": true
    },
    "kernelspec": {
      "name": "python3",
      "display_name": "Python 3"
    },
    "language_info": {
      "name": "python"
    }
  },
  "cells": [
    {
      "cell_type": "markdown",
      "metadata": {
        "id": "view-in-github",
        "colab_type": "text"
      },
      "source": [
        "<a href=\"https://colab.research.google.com/github/Omsri123/python-progz/blob/module_1/control_structures.ipynb\" target=\"_parent\"><img src=\"https://colab.research.google.com/assets/colab-badge.svg\" alt=\"Open In Colab\"/></a>"
      ]
    },
    {
      "cell_type": "code",
      "execution_count": null,
      "metadata": {
        "colab": {
          "base_uri": "https://localhost:8080/"
        },
        "id": "oZWTc19ZPkSK",
        "outputId": "c3977cef-c3d4-43d7-cbb9-b7f64bd4b387"
      },
      "outputs": [
        {
          "output_type": "stream",
          "name": "stdout",
          "text": [
            "enter age 18\n",
            "elgible for voting\n"
          ]
        }
      ],
      "source": [
        "#verify if elgible for voting\n",
        "a=int(input(\"enter age \"))\n",
        "if a>=18:\n",
        "  print(\"elgible for voting\")\n",
        "else:\n",
        "  print(\"not elgible for voting\")"
      ]
    },
    {
      "cell_type": "code",
      "source": [
        "#greatest number in 3\n",
        "a=int(input(\"enter 1st number \"))\n",
        "b=int(input(\"enter 2nd number \"))\n",
        "c=int(input(\"enter 3rd number \"))\n",
        "if (a>=b and a>=c):\n",
        "  print(\"a is greater \")\n",
        "elif b>=c :\n",
        "  print(\"b is greater \")\n",
        "else :\n",
        "  print(\"c is greater \")"
      ],
      "metadata": {
        "colab": {
          "base_uri": "https://localhost:8080/"
        },
        "id": "0qcnGLH8RWWm",
        "outputId": "2cb34b5d-5eb0-4c20-ad4e-5aa88771e353"
      },
      "execution_count": null,
      "outputs": [
        {
          "output_type": "stream",
          "name": "stdout",
          "text": [
            "enter 1st number 0\n",
            "enter 2nd number 0\n",
            "enter 3rd number 0\n",
            "a is greater \n"
          ]
        }
      ]
    },
    {
      "cell_type": "code",
      "source": [
        "#greatest number in n\n",
        "n=int(input(\"enter number of numbers to be verified \"))\n",
        "i=2\n",
        "v=0\n",
        "max=int(input(\"enter 1 number \"))\n",
        "while (i<=n) :\n",
        "  v=int(input(f\"enter {i} number \"))\n",
        "  if v>max :\n",
        "    max=v\n",
        "  i+=1\n",
        "print(f\"greatest number is {max}\")"
      ],
      "metadata": {
        "colab": {
          "base_uri": "https://localhost:8080/"
        },
        "id": "m0S1t6K1TiHd",
        "outputId": "4b374d39-53d9-429e-ea08-115fc4848993"
      },
      "execution_count": null,
      "outputs": [
        {
          "output_type": "stream",
          "name": "stdout",
          "text": [
            "enter number of numbers to be verified 4\n",
            "enter 1 number 5\n",
            "enter 2 number 1\n",
            "enter 3 number 9\n",
            "enter 4 number 2\n",
            "greatest number is 9\n"
          ]
        }
      ]
    },
    {
      "cell_type": "code",
      "source": [
        "#triangle verify\n",
        "a=int(input(\"enter 1st side \"))\n",
        "b=int(input(\"enter 2nd side \"))\n",
        "c=int(input(\"enter 3rd side \"))\n",
        "if a==b==c :\n",
        "  print(\"equilateral triangle\")\n",
        "elif a==b or a==c :\n",
        "  print(\"isoceles triangle\")\n",
        "else :\n",
        "  print(\"scalne triangle\")"
      ],
      "metadata": {
        "colab": {
          "base_uri": "https://localhost:8080/"
        },
        "id": "KsovvHnJW8GV",
        "outputId": "1e93f15d-94ed-4215-a6ef-d2b82c32db15"
      },
      "execution_count": null,
      "outputs": [
        {
          "output_type": "stream",
          "name": "stdout",
          "text": [
            "enter 1st side 1\n",
            "enter 2nd side 2\n",
            "enter 3rd side 3\n",
            "scalne triangle\n"
          ]
        }
      ]
    },
    {
      "cell_type": "markdown",
      "source": [
        "leap year"
      ],
      "metadata": {
        "id": "d_-n0YAAX4m3"
      }
    },
    {
      "cell_type": "code",
      "source": [
        "a=int(input(\"enter year \"))\n",
        "if a%400==0 :\n",
        "  print(\"it's a leap year\")\n",
        "elif a%4==0 and a%100!=0 :\n",
        "  print(\"it's a leap year\")\n",
        "else :\n",
        "  print(\"not a leap year\")"
      ],
      "metadata": {
        "colab": {
          "base_uri": "https://localhost:8080/"
        },
        "id": "qDrPwvfmYFv0",
        "outputId": "a1d23775-5429-4498-f8bc-5cbb1782aadf"
      },
      "execution_count": null,
      "outputs": [
        {
          "output_type": "stream",
          "name": "stdout",
          "text": [
            "enter year 2012\n",
            "it's a leap year\n"
          ]
        }
      ]
    },
    {
      "cell_type": "markdown",
      "source": [
        "minimum in 3"
      ],
      "metadata": {
        "id": "S4_xzzBMZeU9"
      }
    },
    {
      "cell_type": "code",
      "source": [
        "a=int(input(\"enter 1st number \"))\n",
        "b=int(input(\"enter 2nd number \"))\n",
        "c=int(input(\"enter 3rd number \"))\n",
        "if (a<=b and a<=c):\n",
        "  print(\"a is smallest \")\n",
        "elif b<=c :\n",
        "  print(\"b is smallest \")\n",
        "else :\n",
        "  print(\"c is smallest \")"
      ],
      "metadata": {
        "colab": {
          "base_uri": "https://localhost:8080/"
        },
        "id": "lW7dSylOZg60",
        "outputId": "cc8c250e-e411-4743-ac7c-596603687ea7"
      },
      "execution_count": null,
      "outputs": [
        {
          "output_type": "stream",
          "name": "stdout",
          "text": [
            "enter 1st number 2\n",
            "enter 2nd number 1\n",
            "enter 3rd number 3\n",
            "b is smallest \n"
          ]
        }
      ]
    },
    {
      "cell_type": "markdown",
      "source": [
        "divisible by 5 and 11"
      ],
      "metadata": {
        "id": "lo6k6ajuZ_DD"
      }
    },
    {
      "cell_type": "code",
      "source": [
        "a=int(input(\"enter a number \"))\n",
        "if a%5==0 and a%11==0 :\n",
        "  print(\"divisible by both 5 and 11\")\n",
        "else :\n",
        "  print(\"not divisible by both 5 and 11\")"
      ],
      "metadata": {
        "colab": {
          "base_uri": "https://localhost:8080/"
        },
        "id": "47cs3LK-aFbZ",
        "outputId": "f6089d1a-8fa0-4044-9097-ab61391672ca"
      },
      "execution_count": null,
      "outputs": [
        {
          "output_type": "stream",
          "name": "stdout",
          "text": [
            "enter a number 66\n",
            "not divisible by both 5 and 11\n"
          ]
        }
      ]
    },
    {
      "cell_type": "markdown",
      "source": [
        "positive||negative||0"
      ],
      "metadata": {
        "id": "BGm4Zkzed50s"
      }
    },
    {
      "cell_type": "code",
      "source": [
        "a = int(input(\"enter a number \"))\n",
        "if a>0 :\n",
        "  print (\"greater than 0\")\n",
        "elif a==0 :\n",
        "  print(\"equal to 0\")\n",
        "else :\n",
        "  print(\"less than 0\")"
      ],
      "metadata": {
        "colab": {
          "base_uri": "https://localhost:8080/"
        },
        "id": "BpLUlfHTd-tr",
        "outputId": "92969936-14db-4a40-ba03-cfdb3c35e3cc"
      },
      "execution_count": null,
      "outputs": [
        {
          "output_type": "stream",
          "name": "stdout",
          "text": [
            "enter a number 5\n",
            "greater than 0\n"
          ]
        }
      ]
    },
    {
      "cell_type": "markdown",
      "source": [
        "**quadratic equations**"
      ],
      "metadata": {
        "id": "GeK1B7W-KCA2"
      }
    },
    {
      "cell_type": "code",
      "source": [
        "import cmath  \n",
        "a = int(input('Enter a: '))  \n",
        "b = int(input('Enter b: '))  \n",
        "c = int(input('Enter c: '))  \n",
        "d = (b**2) - (4*a*c)  \n",
        "if d==0 :\n",
        "  x=-b/(2*a)\n",
        "  print(f'The solution is {x}')\n",
        "elif d>0 :\n",
        "  sol1 = (-b-cmath.sqrt(d))/(2*a)  \n",
        "  sol2 = (-b+cmath.sqrt(d))/(2*a)  \n",
        "  print(f'The solution are {sol1} and {sol2}')   \n",
        "else :\n",
        "  print('imajinary roots')"
      ],
      "metadata": {
        "colab": {
          "base_uri": "https://localhost:8080/"
        },
        "id": "wW4JTvQuJ-2Y",
        "outputId": "064650f8-1713-4c59-9466-f73793f9e548"
      },
      "execution_count": 10,
      "outputs": [
        {
          "output_type": "stream",
          "name": "stdout",
          "text": [
            "Enter a: 1\n",
            "Enter b: 0\n",
            "Enter c: 64\n",
            "imajinary roots\n"
          ]
        }
      ]
    },
    {
      "cell_type": "markdown",
      "source": [
        "# factorial"
      ],
      "metadata": {
        "id": "3qib6xJmL3pC"
      }
    },
    {
      "cell_type": "code",
      "source": [
        "i=1\n",
        "m=1\n",
        "a=int(input('enter number '))\n",
        "while (i<=a) :\n",
        "  m=m*i\n",
        "  i+=1\n",
        "print(f'{m}')"
      ],
      "metadata": {
        "colab": {
          "base_uri": "https://localhost:8080/"
        },
        "id": "mbglM7RzL9MW",
        "outputId": "0ed59284-3a9e-4020-f292-8b75eec06e99"
      },
      "execution_count": 12,
      "outputs": [
        {
          "output_type": "stream",
          "name": "stdout",
          "text": [
            "enter number 5\n",
            "120\n"
          ]
        }
      ]
    },
    {
      "cell_type": "code",
      "source": [
        "import math\n",
        "\n",
        "a=int(input('enter number '))\n",
        "print(f'{math.factorial(a)}')"
      ],
      "metadata": {
        "colab": {
          "base_uri": "https://localhost:8080/"
        },
        "id": "MBA13hs4NSiS",
        "outputId": "f9f299d6-243c-44fa-8a36-a7a674cb8d8b"
      },
      "execution_count": 13,
      "outputs": [
        {
          "output_type": "stream",
          "name": "stdout",
          "text": [
            "enter number 5\n",
            "120\n"
          ]
        }
      ]
    },
    {
      "cell_type": "markdown",
      "source": [
        "# Palindrome"
      ],
      "metadata": {
        "id": "rrW257rwNrF-"
      }
    },
    {
      "cell_type": "code",
      "source": [
        "a=int(input('enter number '))\n",
        "n=a\n",
        "s=0\n",
        "while n>0 :\n",
        "  r=n%10\n",
        "  s=s*10+r\n",
        "  n=n//10\n",
        "if a==s :\n",
        "  print(\"it's a palindrome\")\n",
        "else :\n",
        "  print(\"it's not a palindrome\")"
      ],
      "metadata": {
        "colab": {
          "base_uri": "https://localhost:8080/"
        },
        "id": "qQzjeUsXNwA7",
        "outputId": "78fb25e5-5c3e-4e0c-8101-a4aa73be07c4"
      },
      "execution_count": 18,
      "outputs": [
        {
          "output_type": "stream",
          "name": "stdout",
          "text": [
            "enter number 696\n",
            "it's a palindrome\n"
          ]
        }
      ]
    },
    {
      "cell_type": "markdown",
      "source": [
        "# Convert a decimal number to binary number"
      ],
      "metadata": {
        "id": "gBbHVtyfZ6a_"
      }
    },
    {
      "cell_type": "code",
      "source": [
        "a=int(input('enter number '))\n",
        "b=0\n",
        "i=1\n",
        "while a>0 :\n",
        "  rem=a%2\n",
        "  a=a//2\n",
        "  b=b+rem *i\n",
        "  i=i*10\n",
        "print(f'{b}')"
      ],
      "metadata": {
        "colab": {
          "base_uri": "https://localhost:8080/"
        },
        "id": "BwN4efnlZ_Qg",
        "outputId": "d896ac01-4fe6-4251-fff6-615c096d8d4e"
      },
      "execution_count": 25,
      "outputs": [
        {
          "output_type": "stream",
          "name": "stdout",
          "text": [
            "enter number 100\n",
            "1100100\n"
          ]
        }
      ]
    },
    {
      "cell_type": "markdown",
      "source": [
        "# Stars"
      ],
      "metadata": {
        "id": "gdDjSuXCbrk_"
      }
    },
    {
      "cell_type": "code",
      "source": [
        "a=int(input('enter number of rows of stars '))\n",
        "i=1\n",
        "while i<=a :\n",
        "  j=1\n",
        "  while j<=i :\n",
        "    print(\"* \", end = '')\n",
        "    j+=1\n",
        "  print(\" \")\n",
        "  i+=1"
      ],
      "metadata": {
        "colab": {
          "base_uri": "https://localhost:8080/"
        },
        "id": "1NHkEs3Kbu4d",
        "outputId": "045f0ab2-4c8f-46b1-eb0c-0e6df7706b19"
      },
      "execution_count": 29,
      "outputs": [
        {
          "output_type": "stream",
          "name": "stdout",
          "text": [
            "enter number of rows of stars 5\n",
            "*  \n",
            "* *  \n",
            "* * *  \n",
            "* * * *  \n",
            "* * * * *  \n"
          ]
        }
      ]
    },
    {
      "cell_type": "markdown",
      "source": [
        "# Letters Pyramisd"
      ],
      "metadata": {
        "id": "tTj4J11LdSIV"
      }
    },
    {
      "cell_type": "code",
      "source": [
        "a=int(input('enter number of rows of letters '))\n",
        "i=1\n",
        "c=65\n",
        "while i<=a :\n",
        "  j=1\n",
        "  ch = chr(c)\n",
        "  while j<=i :\n",
        "    print(ch, end = ' ')\n",
        "    j+=1\n",
        "  c+=1\n",
        "  print(\"\")\n",
        "  i+=1"
      ],
      "metadata": {
        "colab": {
          "base_uri": "https://localhost:8080/"
        },
        "id": "qOqeI46wdWLJ",
        "outputId": "360afc20-b259-436c-9c57-b5406b9f36ad"
      },
      "execution_count": 39,
      "outputs": [
        {
          "output_type": "stream",
          "name": "stdout",
          "text": [
            "enter number of rows of letters 5\n",
            "A \n",
            "B B \n",
            "C C C \n",
            "D D D D \n",
            "E E E E E \n"
          ]
        }
      ]
    },
    {
      "cell_type": "markdown",
      "source": [
        "# Calculate the greatest common divisor of two numbers"
      ],
      "metadata": {
        "id": "aMXps86GiagU"
      }
    },
    {
      "cell_type": "code",
      "source": [
        "a=int(input('enter 1st number '))\n",
        "b=int(input('enter 2nd number '))\n",
        "i=1\n",
        "while (i<=a and i<=b) :\n",
        "  if (a%i==0 and b%i==0) :\n",
        "    d=i\n",
        "  i+=1\n",
        "print(f'{d}')"
      ],
      "metadata": {
        "colab": {
          "base_uri": "https://localhost:8080/"
        },
        "id": "WP5iOl4kiZdG",
        "outputId": "d778a2f1-2644-495e-eb47-52a074bee4bb"
      },
      "execution_count": 44,
      "outputs": [
        {
          "output_type": "stream",
          "name": "stdout",
          "text": [
            "enter 1st number 654\n",
            "enter 2nd number 987\n",
            "3\n"
          ]
        }
      ]
    }
  ]
}