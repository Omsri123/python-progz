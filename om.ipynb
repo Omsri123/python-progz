{
  "cells": [
    {
      "cell_type": "markdown",
      "metadata": {
        "id": "view-in-github",
        "colab_type": "text"
      },
      "source": [
        "<a href=\"https://colab.research.google.com/github/Omsri123/python-progz/blob/module_1/om.ipynb\" target=\"_parent\"><img src=\"https://colab.research.google.com/assets/colab-badge.svg\" alt=\"Open In Colab\"/></a>"
      ]
    },
    {
      "cell_type": "markdown",
      "id": "69f9d7a6",
      "metadata": {
        "id": "69f9d7a6"
      },
      "source": [
        "# hello world"
      ]
    },
    {
      "cell_type": "code",
      "execution_count": null,
      "id": "a9229bd2",
      "metadata": {
        "id": "a9229bd2",
        "outputId": "2dcc50bc-e52d-46d5-b287-74377ee2eba0"
      },
      "outputs": [
        {
          "name": "stdout",
          "output_type": "stream",
          "text": [
            "hello mars\n"
          ]
        }
      ],
      "source": [
        "print(\"hello mars\")"
      ]
    },
    {
      "cell_type": "code",
      "execution_count": null,
      "id": "aa393ae5",
      "metadata": {
        "id": "aa393ae5"
      },
      "outputs": [],
      "source": [
        "a=int(input(\"enter number \"))\n",
        "if a%2==0:\n",
        "    print(\"even\")\n",
        "else:\n",
        "    print(\"odd\")"
      ]
    },
    {
      "cell_type": "markdown",
      "id": "e305fe9e",
      "metadata": {
        "id": "e305fe9e"
      },
      "source": [
        "# converting int into string, float, boolean, complex."
      ]
    },
    {
      "cell_type": "code",
      "execution_count": 1,
      "id": "8981b2a9",
      "metadata": {
        "colab": {
          "base_uri": "https://localhost:8080/"
        },
        "id": "8981b2a9",
        "outputId": "a8158ded-6187-4afb-bb77-47375d36a288"
      },
      "outputs": [
        {
          "output_type": "stream",
          "name": "stdout",
          "text": [
            "10\n",
            "<class 'int'>\n",
            "10\n",
            "<class 'str'>\n",
            "10\n",
            "<class 'float'>\n",
            "True\n",
            "<class 'bool'>\n",
            "(10+0j)\n",
            "<class 'complex'>\n"
          ]
        }
      ],
      "source": [
        "a=10\n",
        "print(a)\n",
        "print(type(a))\n",
        "b=str(a)\n",
        "print(b)\n",
        "print(type(b))\n",
        "c=float(a)\n",
        "print(b)\n",
        "print(type(c))\n",
        "d=bool(a)\n",
        "print(d)\n",
        "print(type(d))\n",
        "e=complex(a)\n",
        "print(e)\n",
        "print(type(e))"
      ]
    },
    {
      "cell_type": "markdown",
      "id": "bc08a519",
      "metadata": {
        "id": "bc08a519"
      },
      "source": [
        "# converting string into int, float, boolean, complex."
      ]
    },
    {
      "cell_type": "code",
      "execution_count": null,
      "id": "2fec28a4",
      "metadata": {
        "id": "2fec28a4",
        "outputId": "2f45dc84-8169-481f-e69c-a4aa12f5efde"
      },
      "outputs": [
        {
          "name": "stdout",
          "output_type": "stream",
          "text": [
            "hi\n",
            "<class 'str'>\n"
          ]
        },
        {
          "ename": "ValueError",
          "evalue": "invalid literal for int() with base 10: 'hi'",
          "output_type": "error",
          "traceback": [
            "\u001b[1;31m---------------------------------------------------------------------------\u001b[0m",
            "\u001b[1;31mValueError\u001b[0m                                Traceback (most recent call last)",
            "\u001b[1;32m~\\AppData\\Local\\Temp/ipykernel_1600/4282948649.py\u001b[0m in \u001b[0;36m<module>\u001b[1;34m\u001b[0m\n\u001b[0;32m      2\u001b[0m \u001b[0mprint\u001b[0m\u001b[1;33m(\u001b[0m\u001b[0ma\u001b[0m\u001b[1;33m)\u001b[0m\u001b[1;33m\u001b[0m\u001b[1;33m\u001b[0m\u001b[0m\n\u001b[0;32m      3\u001b[0m \u001b[0mprint\u001b[0m\u001b[1;33m(\u001b[0m\u001b[0mtype\u001b[0m\u001b[1;33m(\u001b[0m\u001b[0ma\u001b[0m\u001b[1;33m)\u001b[0m\u001b[1;33m)\u001b[0m\u001b[1;33m\u001b[0m\u001b[1;33m\u001b[0m\u001b[0m\n\u001b[1;32m----> 4\u001b[1;33m \u001b[0mb\u001b[0m\u001b[1;33m=\u001b[0m\u001b[0mint\u001b[0m\u001b[1;33m(\u001b[0m\u001b[0ma\u001b[0m\u001b[1;33m)\u001b[0m\u001b[1;33m\u001b[0m\u001b[1;33m\u001b[0m\u001b[0m\n\u001b[0m\u001b[0;32m      5\u001b[0m \u001b[0mprint\u001b[0m\u001b[1;33m(\u001b[0m\u001b[0mb\u001b[0m\u001b[1;33m)\u001b[0m\u001b[1;33m\u001b[0m\u001b[1;33m\u001b[0m\u001b[0m\n\u001b[0;32m      6\u001b[0m \u001b[0mprint\u001b[0m\u001b[1;33m(\u001b[0m\u001b[0mtype\u001b[0m\u001b[1;33m(\u001b[0m\u001b[0mb\u001b[0m\u001b[1;33m)\u001b[0m\u001b[1;33m)\u001b[0m\u001b[1;33m\u001b[0m\u001b[1;33m\u001b[0m\u001b[0m\n",
            "\u001b[1;31mValueError\u001b[0m: invalid literal for int() with base 10: 'hi'"
          ]
        }
      ],
      "source": [
        "a='hi'\n",
        "print(a)\n",
        "print(type(a))\n",
        "b=int(a)\n",
        "print(b)\n",
        "print(type(b))\n",
        "c=float(a)\n",
        "print(b)\n",
        "print(type(c))\n",
        "d=bool(a)\n",
        "print(d)\n",
        "print(type(d))\n",
        "e=complex(a)\n",
        "print(e)\n",
        "print(type(e))"
      ]
    },
    {
      "cell_type": "markdown",
      "id": "052b8725",
      "metadata": {
        "id": "052b8725"
      },
      "source": [
        "# #converting float into int, string, boolean, complex."
      ]
    },
    {
      "cell_type": "code",
      "execution_count": null,
      "id": "2e52ebc1",
      "metadata": {
        "id": "2e52ebc1",
        "outputId": "d1900022-1c4e-45a9-94b6-6032264bab98"
      },
      "outputs": [
        {
          "name": "stdout",
          "output_type": "stream",
          "text": [
            "96.96\n",
            "<class 'float'>\n",
            "96\n",
            "<class 'int'>\n",
            "96\n",
            "<class 'str'>\n",
            "True\n",
            "<class 'bool'>\n",
            "(96.96+0j)\n",
            "<class 'complex'>\n"
          ]
        }
      ],
      "source": [
        "a=96.96\n",
        "print(a)\n",
        "print(type(a))\n",
        "b=int(a)\n",
        "print(b)\n",
        "print(type(b))\n",
        "c=str(a)\n",
        "print(b)\n",
        "print(type(c))\n",
        "d=bool(a)\n",
        "print(d)\n",
        "print(type(d))\n",
        "e=complex(a)\n",
        "print(e)\n",
        "print(type(e))"
      ]
    },
    {
      "cell_type": "markdown",
      "id": "a3aa91a1",
      "metadata": {
        "id": "a3aa91a1"
      },
      "source": [
        "# converting boolean into int, string, float, complex."
      ]
    },
    {
      "cell_type": "code",
      "execution_count": null,
      "id": "bda10042",
      "metadata": {
        "id": "bda10042",
        "outputId": "c76f3083-0e23-4631-acbe-77c869e7d798"
      },
      "outputs": [
        {
          "name": "stdout",
          "output_type": "stream",
          "text": [
            "False\n",
            "<class 'bool'>\n",
            "0\n",
            "<class 'int'>\n",
            "0\n",
            "<class 'str'>\n",
            "0.0\n",
            "<class 'float'>\n",
            "0j\n",
            "<class 'complex'>\n"
          ]
        }
      ],
      "source": [
        "a=False\n",
        "print(a)\n",
        "print(type(a))\n",
        "b=int(a)\n",
        "print(b)\n",
        "print(type(b))\n",
        "c=str(a)\n",
        "print(b)\n",
        "print(type(c))\n",
        "d=float(a)\n",
        "print(d)\n",
        "print(type(d))\n",
        "e=complex(a)\n",
        "print(e)\n",
        "print(type(e))"
      ]
    },
    {
      "cell_type": "markdown",
      "id": "4ec773ee",
      "metadata": {
        "id": "4ec773ee"
      },
      "source": [
        "# converting complex into int, string, float, boolean."
      ]
    },
    {
      "cell_type": "code",
      "execution_count": 2,
      "id": "5fa3d0fe",
      "metadata": {
        "colab": {
          "base_uri": "https://localhost:8080/"
        },
        "id": "5fa3d0fe",
        "outputId": "33506800-1bdb-4394-8caa-4597fe75438c"
      },
      "outputs": [
        {
          "output_type": "stream",
          "name": "stdout",
          "text": [
            "(96.96+0j)\n",
            "<class 'complex'>\n",
            "10\n",
            "<class 'str'>\n",
            "True\n",
            "<class 'bool'>\n"
          ]
        }
      ],
      "source": [
        "a=(96.96+0j)\n",
        "print(a)\n",
        "print(type(a))\n",
        "#b=int(a)\n",
        "#print(b)\n",
        "#print(type(b))\n",
        "c=str(a)\n",
        "print(b)\n",
        "print(type(c))\n",
        "#d=float(a)\n",
        "print(d)\n",
        "print(type(d))\n",
        "e=bool(a)\n",
        "print(e)\n",
        "print(type(e))"
      ]
    },
    {
      "cell_type": "code",
      "execution_count": null,
      "id": "8f7b068b",
      "metadata": {
        "id": "8f7b068b"
      },
      "outputs": [],
      "source": [
        ""
      ]
    }
  ],
  "metadata": {
    "kernelspec": {
      "display_name": "Python 3 (ipykernel)",
      "language": "python",
      "name": "python3"
    },
    "language_info": {
      "codemirror_mode": {
        "name": "ipython",
        "version": 3
      },
      "file_extension": ".py",
      "mimetype": "text/x-python",
      "name": "python",
      "nbconvert_exporter": "python",
      "pygments_lexer": "ipython3",
      "version": "3.9.7"
    },
    "colab": {
      "name": "om.ipynb",
      "provenance": [],
      "include_colab_link": true
    }
  },
  "nbformat": 4,
  "nbformat_minor": 5
}