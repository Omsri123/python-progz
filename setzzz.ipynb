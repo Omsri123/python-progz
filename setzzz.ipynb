{
  "nbformat": 4,
  "nbformat_minor": 0,
  "metadata": {
    "colab": {
      "name": "setzzz.ipynb",
      "provenance": [],
      "authorship_tag": "ABX9TyMIXDHeqzvEgwsCZ1dtmyOQ",
      "include_colab_link": true
    },
    "kernelspec": {
      "name": "python3",
      "display_name": "Python 3"
    },
    "language_info": {
      "name": "python"
    }
  },
  "cells": [
    {
      "cell_type": "markdown",
      "metadata": {
        "id": "view-in-github",
        "colab_type": "text"
      },
      "source": [
        "<a href=\"https://colab.research.google.com/github/Omsri123/python-progz/blob/module_2/setzzz.ipynb\" target=\"_parent\"><img src=\"https://colab.research.google.com/assets/colab-badge.svg\" alt=\"Open In Colab\"/></a>"
      ]
    },
    {
      "cell_type": "code",
      "execution_count": null,
      "metadata": {
        "id": "aIuF72JtOZL4",
        "colab": {
          "base_uri": "https://localhost:8080/"
        },
        "outputId": "c395ac45-35e6-4b93-b7ed-40eb5aaf41a0"
      },
      "outputs": [
        {
          "output_type": "stream",
          "name": "stdout",
          "text": [
            "{0, 1, 2, 3, 4, 5, 6, 7, 8, 9}\n",
            "{0, 1, 2, 3, 4, 5, 6, 7, 8, 9, 'hi'}\n",
            "{0, 1, 2, 3, 4, 5, 6, 7, 8, 9, 'hi', 'whasupp', 'yo', 'man'}\n",
            "0\n",
            "1\n",
            "2\n",
            "3\n",
            "4\n",
            "5\n",
            "6\n",
            "7\n",
            "8\n",
            "9\n",
            "hi\n",
            "whasupp\n",
            "yo\n",
            "man\n",
            "{1, 2, 3, 4, 5, 6, 7, 8, 9, 'hi', 'whasupp', 'yo', 'man'}\n",
            "13\n",
            "{0, 'hi', 2, 3, 4, 5, 6, 7, 8, 9}\n",
            "{'whasupp', 'yo', 'man', 1}\n",
            "{0, 'whasupp', 1, 'yo', 'man'}\n",
            "{'hi'}\n"
          ]
        }
      ],
      "source": [
        "a={1,2,3,4,5,6,7,8,9,0}\n",
        "b={\"yo\",\"man\",\"whasupp\",0,1}\n",
        "print(a)\n",
        "a.add(\"hi\")\n",
        "print(a)\n",
        "a.update(b)\n",
        "print(a)\n",
        "for x in a :\n",
        "  print(x)\n",
        "a.discard(0)\n",
        "print(a)\n",
        "print(len(a))\n",
        "x=a.symmetric_difference(b)\n",
        "print(x)\n",
        "y= a.intersection(b)\n",
        "print(y)\n",
        "c=b.copy()\n",
        "print(c)\n",
        "a.clear()\n",
        "a.add(\"hi\")\n",
        "print(a)"
      ]
    }
  ]
}