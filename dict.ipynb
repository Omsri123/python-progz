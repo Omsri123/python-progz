{
  "nbformat": 4,
  "nbformat_minor": 0,
  "metadata": {
    "colab": {
      "name": "dict.ipynb",
      "provenance": [],
      "authorship_tag": "ABX9TyOKsgfo76rX0gu60/vG8Hw+",
      "include_colab_link": true
    },
    "kernelspec": {
      "name": "python3",
      "display_name": "Python 3"
    },
    "language_info": {
      "name": "python"
    }
  },
  "cells": [
    {
      "cell_type": "markdown",
      "metadata": {
        "id": "view-in-github",
        "colab_type": "text"
      },
      "source": [
        "<a href=\"https://colab.research.google.com/github/Omsri123/python-progz/blob/module_1/dict.ipynb\" target=\"_parent\"><img src=\"https://colab.research.google.com/assets/colab-badge.svg\" alt=\"Open In Colab\"/></a>"
      ]
    },
    {
      "cell_type": "code",
      "execution_count": 15,
      "metadata": {
        "colab": {
          "base_uri": "https://localhost:8080/"
        },
        "id": "1-mEhpCTewUy",
        "outputId": "cecb0a38-9f3f-4a33-e2a0-344f895cd91f"
      },
      "outputs": [
        {
          "output_type": "stream",
          "name": "stdout",
          "text": [
            "name 251245214124521452145212521\n",
            "reg_num 4654546545646545454564545645645644545454654564564564564522324655\n",
            "class 45\n",
            "{'name ': '251245214124521452145212521', 'reg_num': 4654546545646545454564545645645644545454654564564564564522324655, 'class': '45', 'pass': True}\n",
            "251245214124521452145212521\n",
            "4\n"
          ]
        }
      ],
      "source": [
        "info = {\n",
        "    \"name \" : input(\"name \") ,\n",
        "    \"reg_num\" : int(input(\"reg_num \")) , \n",
        "    \"class\" : input(\"class \") ,\n",
        "    \"pass\" : True\n",
        "}\n",
        "print(info)\n",
        "print(info[\"name \"])\n",
        "print(len(info))"
      ]
    },
    {
      "cell_type": "code",
      "source": [
        "print(9**2)"
      ],
      "metadata": {
        "id": "hdLTT1rCkbDy"
      },
      "execution_count": null,
      "outputs": []
    }
  ]
}