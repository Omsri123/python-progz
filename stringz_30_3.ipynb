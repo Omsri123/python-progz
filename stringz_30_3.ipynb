{
  "nbformat": 4,
  "nbformat_minor": 0,
  "metadata": {
    "colab": {
      "name": "stringz_30/3.ipynb",
      "provenance": [],
      "authorship_tag": "ABX9TyMEpo3SouYfSsF6g5BoK/17",
      "include_colab_link": true
    },
    "kernelspec": {
      "name": "python3",
      "display_name": "Python 3"
    },
    "language_info": {
      "name": "python"
    }
  },
  "cells": [
    {
      "cell_type": "markdown",
      "metadata": {
        "id": "view-in-github",
        "colab_type": "text"
      },
      "source": [
        "<a href=\"https://colab.research.google.com/github/Omsri123/python-progz/blob/module_1/stringz_30_3.ipynb\" target=\"_parent\"><img src=\"https://colab.research.google.com/assets/colab-badge.svg\" alt=\"Open In Colab\"/></a>"
      ]
    },
    {
      "cell_type": "code",
      "execution_count": null,
      "metadata": {
        "id": "t_weM6KX3-gM",
        "colab": {
          "base_uri": "https://localhost:8080/"
        },
        "outputId": "bda5f927-9aee-4536-f579-1b3f50a5a935"
      },
      "outputs": [
        {
          "output_type": "stream",
          "name": "stdout",
          "text": [
            "hlo 203,MVV HILL VIEW,\r Gopalapatnam.\n",
            "Visakhapatnam\n",
            "51\n",
            "True True\n",
            "True\n",
            "hlo 203,MVV HILL VIEW,\r Gopalapatnam.\n",
            "Visakhapatnam\n",
            "hlo 203\n",
            "hlo 203,MVV HILL VIEW,\r Gopalapatnam.\n",
            "Visakhapatnam\n",
            "mantapahkasiV\n",
            ".mantapalapoG \r,WEIV LLIH VVM,302 olh\n",
            "ho23MVHL IW\rGplpta.Vskaanm\n",
            "hlo 203,mvv hill view,\r gopalapatnam.\n",
            "visakhapatnam\n",
            "HLO 203,MVV HILL VIEW,\r GOPALAPATNAM.\n",
            "VISAKHAPATNAM\n",
            "Hlo 203,mvv hill view,\r gopalapatnam.\n",
            "visakhapatnam\n",
            "hlo 203,MVV HILL VIEW,\r Gopalapatnam.\n",
            "Visakhapatnam\n",
            "4\n",
            "hlo 203,MVV HILL VIEW,\r Vopalapatnam.\n",
            "Visakhapatnam\n",
            "['hlo 203,MVV HILL VIEW,\\r Gopalapatnam', '\\nVisakhapatnam']\n",
            "om sri\n",
            "omsri\n"
          ]
        }
      ],
      "source": [
        "add = '''hlo 203,MVV HILL VIEW,\\r Gopalapatnam.\n",
        "Visakhapatnam'''\n",
        "a=\"om\"\n",
        "b=\"sri\"\n",
        "print(add)\n",
        "print(len(add))\n",
        "print(\"MVV\" in add , \"Gopalapatnam\" in add)\n",
        "print('andhra' not in add)\n",
        "print(add[0:])\n",
        "print(add[0:7])\n",
        "print(add[:len(add)])\n",
        "print(add[::-1])\n",
        "print(add[::2])\n",
        "print(add.lower())\n",
        "print(add.upper())\n",
        "print(add.capitalize())\n",
        "print(add.strip())\n",
        "print(add.find(\"203\"))\n",
        "print(add.replace('G','V'))\n",
        "print(add.split(\".\"))\n",
        "print(a+\" \"+b)\n",
        "print(a+b)"
      ]
    },
    {
      "cell_type": "code",
      "source": [
        "print(\"Hello\")\n",
        "print('Hello')"
      ],
      "metadata": {
        "colab": {
          "base_uri": "https://localhost:8080/"
        },
        "id": "h62OKF9E-yQT",
        "outputId": "cf122be8-28d2-4c65-80d4-63cd75f66bea"
      },
      "execution_count": null,
      "outputs": [
        {
          "output_type": "stream",
          "name": "stdout",
          "text": [
            "Hello\n",
            "Hello\n"
          ]
        }
      ]
    },
    {
      "cell_type": "markdown",
      "source": [
        "# Format strngz"
      ],
      "metadata": {
        "id": "5RO1KjKvOToy"
      }
    },
    {
      "cell_type": "code",
      "source": [
        "age = 36\n",
        "txt = \"My name is John, and I am {}\"\n",
        "print(txt.format(age))"
      ],
      "metadata": {
        "colab": {
          "base_uri": "https://localhost:8080/"
        },
        "id": "9uAKyO4BOZIK",
        "outputId": "015150c9-eec2-4203-a703-8f60205114b1"
      },
      "execution_count": null,
      "outputs": [
        {
          "output_type": "stream",
          "name": "stdout",
          "text": [
            "My name is John, and I am 36\n"
          ]
        }
      ]
    },
    {
      "cell_type": "code",
      "source": [
        "quantity = 3\n",
        "itemno = 567\n",
        "price = 49.95\n",
        "myorder = \"I want to pay {0} dollars for {1} pieces of item {2}.\"\n",
        "print(myorder.format(quantity, itemno, price)) "
      ],
      "metadata": {
        "colab": {
          "base_uri": "https://localhost:8080/"
        },
        "id": "Mrn5Mb-JP-bx",
        "outputId": "f9534c3f-5070-4d8b-9b8e-99432d536d10"
      },
      "execution_count": null,
      "outputs": [
        {
          "output_type": "stream",
          "name": "stdout",
          "text": [
            "I want to pay 3 dollars for\r 567 pieces of item 49.95.\n"
          ]
        }
      ]
    }
  ]
}