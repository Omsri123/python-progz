{
  "nbformat": 4,
  "nbformat_minor": 0,
  "metadata": {
    "colab": {
      "name": "Quiz_1.ipynb",
      "provenance": [],
      "authorship_tag": "ABX9TyMo3N2bS87E7pdoCv8Kt/gw",
      "include_colab_link": true
    },
    "kernelspec": {
      "name": "python3",
      "display_name": "Python 3"
    },
    "language_info": {
      "name": "python"
    }
  },
  "cells": [
    {
      "cell_type": "markdown",
      "metadata": {
        "id": "view-in-github",
        "colab_type": "text"
      },
      "source": [
        "<a href=\"https://colab.research.google.com/github/Omsri123/python-progz/blob/quizzes/Quiz_1.ipynb\" target=\"_parent\"><img src=\"https://colab.research.google.com/assets/colab-badge.svg\" alt=\"Open In Colab\"/></a>"
      ]
    },
    {
      "cell_type": "markdown",
      "source": [
        "# Write a program of swapping of two numbers \n",
        "\n"
      ],
      "metadata": {
        "id": "ezA9pKLGfrRx"
      }
    },
    {
      "cell_type": "code",
      "source": [
        "a = 2\n",
        "b = 3\n",
        "c = b\n",
        "b = a\n",
        "a = c\n",
        "print(f\"Result = {a} {b}\")"
      ],
      "metadata": {
        "id": "pOZZEBUYf1Of"
      },
      "execution_count": null,
      "outputs": []
    },
    {
      "cell_type": "markdown",
      "source": [
        "# Find out the square root of the number"
      ],
      "metadata": {
        "id": "Mcoh91exgCEg"
      }
    },
    {
      "cell_type": "code",
      "source": [
        "import math\n",
        "a = 4\n",
        "s= math.sqrt(a)\n",
        "print(s)"
      ],
      "metadata": {
        "id": "lfXZP2WRgeF_"
      },
      "execution_count": null,
      "outputs": []
    },
    {
      "cell_type": "markdown",
      "source": [
        "# Find out the Largest of three numbers from the give input"
      ],
      "metadata": {
        "id": "3vAbequhgfNA"
      }
    },
    {
      "cell_type": "code",
      "source": [
        "a = 5\n",
        "b = 3\n",
        "c = 2\n",
        "if (a>=b and a>=c) :\n",
        "    print(a)\n",
        "elif b>=c :\n",
        "    print(b)\n",
        "else :\n",
        "    print(c)"
      ],
      "metadata": {
        "id": "wG3zkEpngqRP"
      },
      "execution_count": null,
      "outputs": []
    },
    {
      "cell_type": "markdown",
      "source": [
        "# Add Black color to the given list in the 4th place.\n",
        "\n",
        " Rainbow = ['Red', 'Orange', 'Yellow', 'Green'] "
      ],
      "metadata": {
        "id": "9IhEsyo-gwbP"
      }
    },
    {
      "cell_type": "code",
      "source": [
        "Rainbow = ['Red', 'Orange', 'Yellow', 'Green'] \n",
        "Rainbow.insert(3,\"Black\")\n",
        "print(Rainbow)"
      ],
      "metadata": {
        "colab": {
          "base_uri": "https://localhost:8080/"
        },
        "id": "Mc17HaiRgzOX",
        "outputId": "e5cfe488-b126-454b-fde7-14e5a27c1a25"
      },
      "execution_count": 6,
      "outputs": [
        {
          "output_type": "stream",
          "name": "stdout",
          "text": [
            "['Red', 'Orange', 'Yellow', 'Black', 'Green']\n"
          ]
        }
      ]
    }
  ]
}