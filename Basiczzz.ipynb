{
  "nbformat": 4,
  "nbformat_minor": 0,
  "metadata": {
    "colab": {
      "name": "Basiczzz.ipynb",
      "provenance": [],
      "include_colab_link": true
    },
    "kernelspec": {
      "name": "python3",
      "display_name": "Python 3"
    },
    "language_info": {
      "name": "python"
    }
  },
  "cells": [
    {
      "cell_type": "markdown",
      "metadata": {
        "id": "view-in-github",
        "colab_type": "text"
      },
      "source": [
        "<a href=\"https://colab.research.google.com/github/Omsri123/python-progz/blob/module_2/Basiczzz.ipynb\" target=\"_parent\"><img src=\"https://colab.research.google.com/assets/colab-badge.svg\" alt=\"Open In Colab\"/></a>"
      ]
    },
    {
      "cell_type": "markdown",
      "source": [
        ""
      ],
      "metadata": {
        "id": "5hN1JPO3HQPv"
      }
    },
    {
      "cell_type": "markdown",
      "source": [
        "#### Accept input from user and store it in variable and print the value"
      ],
      "metadata": {
        "id": "Ekfbv6zol735"
      }
    },
    {
      "cell_type": "markdown",
      "source": [
        ""
      ],
      "metadata": {
        "id": "hdaue57dHQC2"
      }
    },
    {
      "cell_type": "code",
      "execution_count": null,
      "metadata": {
        "id": "G4SLXQRPTR34"
      },
      "outputs": [],
      "source": [
        "a=input(\"enter a number \")\n",
        "print(a)"
      ]
    },
    {
      "cell_type": "markdown",
      "source": [
        "#### Use of print statements and use of (.format )for printing different data types."
      ],
      "metadata": {
        "id": "JvsGkHlxmEWK"
      }
    },
    {
      "cell_type": "code",
      "source": [
        "a=int(input())\n",
        "print(f\"dhoni scored {a} runs\")"
      ],
      "metadata": {
        "id": "b3ZTd-FDTmwk"
      },
      "execution_count": null,
      "outputs": []
    },
    {
      "cell_type": "code",
      "source": [
        "a=\"my name is {name}, and iam in {subject}, class right now.\".format(name=\"omsri\",subject=\"python\")\n",
        "print(a)"
      ],
      "metadata": {
        "id": "sa_AzyRSfrls"
      },
      "execution_count": null,
      "outputs": []
    },
    {
      "cell_type": "markdown",
      "source": [
        "#### Take 2 numbers as user input and add, multiply, divide, subtract, remainder and print the output"
      ],
      "metadata": {
        "id": "7NZ70MqlmOK6"
      }
    },
    {
      "cell_type": "code",
      "source": [
        "a=int(input(\"enter 1st number \"))\n",
        "b=int(input(\"enter 2nd number \"))\n",
        "c=a+b\n",
        "d=a-b\n",
        "e=a*b\n",
        "f=a//b\n",
        "g=a%d\n",
        "print(c,d,e,f,g)"
      ],
      "metadata": {
        "id": "g_u4fxFCVcs8"
      },
      "execution_count": null,
      "outputs": []
    },
    {
      "cell_type": "markdown",
      "source": [
        "#### Conversion of one unit to another (such as hours to minutes, miles to km)"
      ],
      "metadata": {
        "id": "pR5PWiXZmf3a"
      }
    },
    {
      "cell_type": "code",
      "source": [
        "a=int(input(\"enter no. of minutes \"))\n",
        "b=round(a/60 , 2)\n",
        "z=int(input(\"enter no. of miles \"))\n",
        "y=round(z*1.60934 , 2)\n",
        "print(f\"no. of hours is {b}\\nno. of km is {y}\")"
      ],
      "metadata": {
        "id": "r1AS8r2GWwHD"
      },
      "execution_count": null,
      "outputs": []
    },
    {
      "cell_type": "markdown",
      "source": [
        "##### Usage of mathematical functions in python like math.ceil, floor, fabs, fmod, trunc, pow, sqrt etc"
      ],
      "metadata": {
        "id": "46mUm_B8mwSp"
      }
    },
    {
      "cell_type": "code",
      "source": [
        "import math\n",
        "a=float(input(\"enter a number: \"))\n",
        "b=float(input(\"enter second number: \"))\n",
        "print(math.ceil(a))\n",
        "print(math.floor(a))\n",
        "print(math.fabs(a))\n",
        "print(math.fmod(a,b))\n",
        "print(math.trunc(a))\n",
        "print(math.pow(2,2))\n",
        "print(math.sqrt(4))"
      ],
      "metadata": {
        "id": "8mg0TAqUgMgJ",
        "colab": {
          "base_uri": "https://localhost:8080/"
        },
        "outputId": "14f2b36c-7674-4279-e043-3f2947ea17fc"
      },
      "execution_count": null,
      "outputs": [
        {
          "output_type": "stream",
          "name": "stdout",
          "text": [
            "enter a number: 6\n",
            "enter second number: 5\n",
            "6\n",
            "6\n",
            "6.0\n",
            "1.0\n",
            "6\n",
            "4.0\n",
            "2.0\n"
          ]
        }
      ]
    },
    {
      "cell_type": "markdown",
      "source": [
        "##### Building a mathematical calculator that can perform operations according to user input.\n",
        "Use decision making statement."
      ],
      "metadata": {
        "id": "v5g_lI7am5CV"
      }
    },
    {
      "cell_type": "code",
      "source": [
        "a=int(input(\"enter first number: \"))\n",
        "b=int(input(\"enter second number: \"))\n",
        "operation=str(input(\"enter operation to be performed: \"))\n",
        "if(operation==\"add\"):\n",
        "  print(a+b)\n",
        "elif(operation==\"sub\"):\n",
        "  print(a-b)\n",
        "elif(operation==\"mul\"):\n",
        "  print(a*b)\n",
        "elif(operation==\"div\"):\n",
        "  print(a//b)\n",
        "elif(operation==\"rem\"):\n",
        "  print(a%b)\n",
        "else:\n",
        "  print(\"enter a valid operation\")"
      ],
      "metadata": {
        "id": "Py5aBttIgNRy",
        "colab": {
          "base_uri": "https://localhost:8080/",
          "height": 536
        },
        "outputId": "b17f7a1e-6f7e-4aea-b984-4e6279fce322"
      },
      "execution_count": null,
      "outputs": [
        {
          "output_type": "error",
          "ename": "KeyboardInterrupt",
          "evalue": "ignored",
          "traceback": [
            "\u001b[0;31m---------------------------------------------------------------------------\u001b[0m",
            "\u001b[0;31mKeyboardInterrupt\u001b[0m                         Traceback (most recent call last)",
            "\u001b[0;32m/usr/local/lib/python3.7/dist-packages/ipykernel/kernelbase.py\u001b[0m in \u001b[0;36m_input_request\u001b[0;34m(self, prompt, ident, parent, password)\u001b[0m\n\u001b[1;32m    728\u001b[0m             \u001b[0;32mtry\u001b[0m\u001b[0;34m:\u001b[0m\u001b[0;34m\u001b[0m\u001b[0;34m\u001b[0m\u001b[0m\n\u001b[0;32m--> 729\u001b[0;31m                 \u001b[0mident\u001b[0m\u001b[0;34m,\u001b[0m \u001b[0mreply\u001b[0m \u001b[0;34m=\u001b[0m \u001b[0mself\u001b[0m\u001b[0;34m.\u001b[0m\u001b[0msession\u001b[0m\u001b[0;34m.\u001b[0m\u001b[0mrecv\u001b[0m\u001b[0;34m(\u001b[0m\u001b[0mself\u001b[0m\u001b[0;34m.\u001b[0m\u001b[0mstdin_socket\u001b[0m\u001b[0;34m,\u001b[0m \u001b[0;36m0\u001b[0m\u001b[0;34m)\u001b[0m\u001b[0;34m\u001b[0m\u001b[0;34m\u001b[0m\u001b[0m\n\u001b[0m\u001b[1;32m    730\u001b[0m             \u001b[0;32mexcept\u001b[0m \u001b[0mException\u001b[0m\u001b[0;34m:\u001b[0m\u001b[0;34m\u001b[0m\u001b[0;34m\u001b[0m\u001b[0m\n",
            "\u001b[0;32m/usr/local/lib/python3.7/dist-packages/jupyter_client/session.py\u001b[0m in \u001b[0;36mrecv\u001b[0;34m(self, socket, mode, content, copy)\u001b[0m\n\u001b[1;32m    802\u001b[0m         \u001b[0;32mtry\u001b[0m\u001b[0;34m:\u001b[0m\u001b[0;34m\u001b[0m\u001b[0;34m\u001b[0m\u001b[0m\n\u001b[0;32m--> 803\u001b[0;31m             \u001b[0mmsg_list\u001b[0m \u001b[0;34m=\u001b[0m \u001b[0msocket\u001b[0m\u001b[0;34m.\u001b[0m\u001b[0mrecv_multipart\u001b[0m\u001b[0;34m(\u001b[0m\u001b[0mmode\u001b[0m\u001b[0;34m,\u001b[0m \u001b[0mcopy\u001b[0m\u001b[0;34m=\u001b[0m\u001b[0mcopy\u001b[0m\u001b[0;34m)\u001b[0m\u001b[0;34m\u001b[0m\u001b[0;34m\u001b[0m\u001b[0m\n\u001b[0m\u001b[1;32m    804\u001b[0m         \u001b[0;32mexcept\u001b[0m \u001b[0mzmq\u001b[0m\u001b[0;34m.\u001b[0m\u001b[0mZMQError\u001b[0m \u001b[0;32mas\u001b[0m \u001b[0me\u001b[0m\u001b[0;34m:\u001b[0m\u001b[0;34m\u001b[0m\u001b[0;34m\u001b[0m\u001b[0m\n",
            "\u001b[0;32m/usr/local/lib/python3.7/dist-packages/zmq/sugar/socket.py\u001b[0m in \u001b[0;36mrecv_multipart\u001b[0;34m(self, flags, copy, track)\u001b[0m\n\u001b[1;32m    624\u001b[0m         \"\"\"\n\u001b[0;32m--> 625\u001b[0;31m         \u001b[0mparts\u001b[0m \u001b[0;34m=\u001b[0m \u001b[0;34m[\u001b[0m\u001b[0mself\u001b[0m\u001b[0;34m.\u001b[0m\u001b[0mrecv\u001b[0m\u001b[0;34m(\u001b[0m\u001b[0mflags\u001b[0m\u001b[0;34m,\u001b[0m \u001b[0mcopy\u001b[0m\u001b[0;34m=\u001b[0m\u001b[0mcopy\u001b[0m\u001b[0;34m,\u001b[0m \u001b[0mtrack\u001b[0m\u001b[0;34m=\u001b[0m\u001b[0mtrack\u001b[0m\u001b[0;34m)\u001b[0m\u001b[0;34m]\u001b[0m\u001b[0;34m\u001b[0m\u001b[0;34m\u001b[0m\u001b[0m\n\u001b[0m\u001b[1;32m    626\u001b[0m         \u001b[0;31m# have first part already, only loop while more to receive\u001b[0m\u001b[0;34m\u001b[0m\u001b[0;34m\u001b[0m\u001b[0;34m\u001b[0m\u001b[0m\n",
            "\u001b[0;32mzmq/backend/cython/socket.pyx\u001b[0m in \u001b[0;36mzmq.backend.cython.socket.Socket.recv\u001b[0;34m()\u001b[0m\n",
            "\u001b[0;32mzmq/backend/cython/socket.pyx\u001b[0m in \u001b[0;36mzmq.backend.cython.socket.Socket.recv\u001b[0;34m()\u001b[0m\n",
            "\u001b[0;32mzmq/backend/cython/socket.pyx\u001b[0m in \u001b[0;36mzmq.backend.cython.socket._recv_copy\u001b[0;34m()\u001b[0m\n",
            "\u001b[0;32m/usr/local/lib/python3.7/dist-packages/zmq/backend/cython/checkrc.pxd\u001b[0m in \u001b[0;36mzmq.backend.cython.checkrc._check_rc\u001b[0;34m()\u001b[0m\n",
            "\u001b[0;31mKeyboardInterrupt\u001b[0m: ",
            "\nDuring handling of the above exception, another exception occurred:\n",
            "\u001b[0;31mKeyboardInterrupt\u001b[0m                         Traceback (most recent call last)",
            "\u001b[0;32m<ipython-input-1-e2679a3e05fb>\u001b[0m in \u001b[0;36m<module>\u001b[0;34m()\u001b[0m\n\u001b[0;32m----> 1\u001b[0;31m \u001b[0ma\u001b[0m\u001b[0;34m=\u001b[0m\u001b[0mint\u001b[0m\u001b[0;34m(\u001b[0m\u001b[0minput\u001b[0m\u001b[0;34m(\u001b[0m\u001b[0;34m\"enter first number: \"\u001b[0m\u001b[0;34m)\u001b[0m\u001b[0;34m)\u001b[0m\u001b[0;34m\u001b[0m\u001b[0;34m\u001b[0m\u001b[0m\n\u001b[0m\u001b[1;32m      2\u001b[0m \u001b[0mb\u001b[0m\u001b[0;34m=\u001b[0m\u001b[0mint\u001b[0m\u001b[0;34m(\u001b[0m\u001b[0minput\u001b[0m\u001b[0;34m(\u001b[0m\u001b[0;34m\"enter second number: \"\u001b[0m\u001b[0;34m)\u001b[0m\u001b[0;34m)\u001b[0m\u001b[0;34m\u001b[0m\u001b[0;34m\u001b[0m\u001b[0m\n\u001b[1;32m      3\u001b[0m \u001b[0moperation\u001b[0m\u001b[0;34m=\u001b[0m\u001b[0mstr\u001b[0m\u001b[0;34m(\u001b[0m\u001b[0minput\u001b[0m\u001b[0;34m(\u001b[0m\u001b[0;34m\"enter operation to be performed: \"\u001b[0m\u001b[0;34m)\u001b[0m\u001b[0;34m)\u001b[0m\u001b[0;34m\u001b[0m\u001b[0;34m\u001b[0m\u001b[0m\n\u001b[1;32m      4\u001b[0m \u001b[0;32mif\u001b[0m\u001b[0;34m(\u001b[0m\u001b[0moperation\u001b[0m\u001b[0;34m==\u001b[0m\u001b[0;34m\"add\"\u001b[0m\u001b[0;34m)\u001b[0m\u001b[0;34m:\u001b[0m\u001b[0;34m\u001b[0m\u001b[0;34m\u001b[0m\u001b[0m\n\u001b[1;32m      5\u001b[0m   \u001b[0mprint\u001b[0m\u001b[0;34m(\u001b[0m\u001b[0ma\u001b[0m\u001b[0;34m+\u001b[0m\u001b[0mb\u001b[0m\u001b[0;34m)\u001b[0m\u001b[0;34m\u001b[0m\u001b[0;34m\u001b[0m\u001b[0m\n",
            "\u001b[0;32m/usr/local/lib/python3.7/dist-packages/ipykernel/kernelbase.py\u001b[0m in \u001b[0;36mraw_input\u001b[0;34m(self, prompt)\u001b[0m\n\u001b[1;32m    702\u001b[0m             \u001b[0mself\u001b[0m\u001b[0;34m.\u001b[0m\u001b[0m_parent_ident\u001b[0m\u001b[0;34m,\u001b[0m\u001b[0;34m\u001b[0m\u001b[0;34m\u001b[0m\u001b[0m\n\u001b[1;32m    703\u001b[0m             \u001b[0mself\u001b[0m\u001b[0;34m.\u001b[0m\u001b[0m_parent_header\u001b[0m\u001b[0;34m,\u001b[0m\u001b[0;34m\u001b[0m\u001b[0;34m\u001b[0m\u001b[0m\n\u001b[0;32m--> 704\u001b[0;31m             \u001b[0mpassword\u001b[0m\u001b[0;34m=\u001b[0m\u001b[0;32mFalse\u001b[0m\u001b[0;34m,\u001b[0m\u001b[0;34m\u001b[0m\u001b[0;34m\u001b[0m\u001b[0m\n\u001b[0m\u001b[1;32m    705\u001b[0m         )\n\u001b[1;32m    706\u001b[0m \u001b[0;34m\u001b[0m\u001b[0m\n",
            "\u001b[0;32m/usr/local/lib/python3.7/dist-packages/ipykernel/kernelbase.py\u001b[0m in \u001b[0;36m_input_request\u001b[0;34m(self, prompt, ident, parent, password)\u001b[0m\n\u001b[1;32m    732\u001b[0m             \u001b[0;32mexcept\u001b[0m \u001b[0mKeyboardInterrupt\u001b[0m\u001b[0;34m:\u001b[0m\u001b[0;34m\u001b[0m\u001b[0;34m\u001b[0m\u001b[0m\n\u001b[1;32m    733\u001b[0m                 \u001b[0;31m# re-raise KeyboardInterrupt, to truncate traceback\u001b[0m\u001b[0;34m\u001b[0m\u001b[0;34m\u001b[0m\u001b[0;34m\u001b[0m\u001b[0m\n\u001b[0;32m--> 734\u001b[0;31m                 \u001b[0;32mraise\u001b[0m \u001b[0mKeyboardInterrupt\u001b[0m\u001b[0;34m\u001b[0m\u001b[0;34m\u001b[0m\u001b[0m\n\u001b[0m\u001b[1;32m    735\u001b[0m             \u001b[0;32melse\u001b[0m\u001b[0;34m:\u001b[0m\u001b[0;34m\u001b[0m\u001b[0;34m\u001b[0m\u001b[0m\n\u001b[1;32m    736\u001b[0m                 \u001b[0;32mbreak\u001b[0m\u001b[0;34m\u001b[0m\u001b[0;34m\u001b[0m\u001b[0m\n",
            "\u001b[0;31mKeyboardInterrupt\u001b[0m: "
          ]
        }
      ]
    },
    {
      "cell_type": "markdown",
      "source": [
        "##### Accepting 5 different subject marks from user and displaying the grade of the student"
      ],
      "metadata": {
        "id": "U4lZwymWm-mG"
      }
    },
    {
      "cell_type": "code",
      "source": [
        "a=[]\n",
        "s=0\n",
        "for i in range (5) :\n",
        "  a.append(int(input(f\"Enter marks of {(i+1)} subject \")))\n",
        "  s=s+a[i]\n",
        "avg=s/5\n",
        "print(f\"Grade of student is {avg}\")"
      ],
      "metadata": {
        "id": "YwLGJrzxgTtX",
        "colab": {
          "base_uri": "https://localhost:8080/"
        },
        "outputId": "742b2424-a418-4261-9f50-785bef911e05"
      },
      "execution_count": null,
      "outputs": [
        {
          "output_type": "stream",
          "name": "stdout",
          "text": [
            "Enter marks of 1 subject 56\n",
            "Enter marks of 2 subject 35\n",
            "Enter marks of 3 subject 99\n",
            "Enter marks of 4 subject 99\n",
            "Enter marks of 5 subject 99\n",
            "Grade of student is 77.6\n"
          ]
        }
      ]
    },
    {
      "cell_type": "markdown",
      "source": [
        "##### Printing all even numbers, odd numbers, count of even numbers, count of odd numbers within a given range"
      ],
      "metadata": {
        "id": "WgTnAqQRnEwh"
      }
    },
    {
      "cell_type": "code",
      "source": [
        "n=int(input(\"enter a range: \"))\n",
        "print(\"even numbers:\")\n",
        "c=0\n",
        "for i in range(1,n+1):\n",
        "  if(i%2==0):\n",
        "    c+=1\n",
        "    print(i,end=\"\\t\")\n",
        "print(\"\\nno of even numbers are: \",c)\n",
        "print(\"odd numbers: \")\n",
        "d=0\n",
        "for j in range(1,n+1):\n",
        "  if(j%2!=0):\n",
        "    d+=1\n",
        "    print(j,end=\"\\t\")\n",
        "print(\"\\nno of odd numbers are: \",d)"
      ],
      "metadata": {
        "id": "BAvfhjE4ic_d"
      },
      "execution_count": null,
      "outputs": []
    },
    {
      "cell_type": "markdown",
      "source": [
        "##  factorial of a given number"
      ],
      "metadata": {
        "id": "YfdhkRWxnLbM"
      }
    },
    {
      "cell_type": "code",
      "source": [
        "a=int(input(\"enter a number: \"))\n",
        "f=1\n",
        "for i in range(1,a+1):\n",
        "  f=f*i\n",
        "print(f)"
      ],
      "metadata": {
        "id": "xqvZjDRFjA0x"
      },
      "execution_count": null,
      "outputs": []
    },
    {
      "cell_type": "markdown",
      "source": [
        "##  Compute GCD of two given numbers."
      ],
      "metadata": {
        "id": "U6RQSDItnSMY"
      }
    },
    {
      "cell_type": "code",
      "source": [
        "a=int(input(\"enter first number: \"))\n",
        "b=int(input(\"enter second number: \"))\n",
        "k=a if (a<b) else b\n",
        "while True:\n",
        "  if(a%k==0 and b%k==0):\n",
        "    break\n",
        "  k-=1\n",
        "print(k)"
      ],
      "metadata": {
        "id": "3H_YXB3HjMQX",
        "colab": {
          "base_uri": "https://localhost:8080/"
        },
        "outputId": "eaeef005-c924-4722-ae52-d9e5c9c323ba"
      },
      "execution_count": null,
      "outputs": [
        {
          "output_type": "stream",
          "name": "stdout",
          "text": [
            "enter first number: 7\n",
            "enter second number: 13\n",
            "1\n"
          ]
        }
      ]
    },
    {
      "cell_type": "markdown",
      "source": [
        "### Generate Fibonacci series up to N numbers"
      ],
      "metadata": {
        "id": "Syb1gLLhnZXC"
      }
    },
    {
      "cell_type": "code",
      "source": [
        "a=int(input('Enter ending number '))\n",
        "b=0\n",
        "c=1\n",
        "d=0\n",
        "while a>=d :\n",
        "  if (a>=b and a>=c) :\n",
        "    print(f\"{b} \",end=\"  \")\n",
        "    print(f\"{c}\",end=\"  \")\n",
        "  else:\n",
        "\t\t  print(f\"{b}\",end=\"  \")\n",
        "  d=b+c\n",
        "  c=c+d\n",
        "  b=d"
      ],
      "metadata": {
        "id": "cba9xsiBj2YJ"
      },
      "execution_count": null,
      "outputs": []
    },
    {
      "cell_type": "markdown",
      "source": [
        "### Check whether the given input is a) palindrome b) strong c) perfect"
      ],
      "metadata": {
        "id": "78iG54NSnfk-"
      }
    },
    {
      "cell_type": "code",
      "source": [
        "#palindrome\n",
        "a=int(input(\"enter a number: \"))\n",
        "b=a\n",
        "rev=0\n",
        "while(a!=0):\n",
        "  r=a%10\n",
        "  rev=rev*10+r\n",
        "  a=a//10\n",
        "if(rev==b):\n",
        "  print(\"it is a palindrome\")\n",
        "else:\n",
        "  print(\"it is not a palindome\")\n",
        "\n",
        "#strong\n",
        "n=b\n",
        "t=n\n",
        "sum=0\n",
        "while(n !=0):\n",
        "  r=n%10\n",
        "  f=1\n",
        "  while(r !=1):\n",
        "    f=f*r\n",
        "    r=r-1\n",
        "  sum=sum+f\n",
        "  n=n//10\n",
        "if(sum==t):\n",
        "  print(\"it's a strong number\")\n",
        "else:\n",
        "  print(\"it's not a strong number\")\n",
        "\n",
        "#perfect\n",
        "n=b\n",
        "s=0\n",
        "for i in range(1,(n//2+1)):\n",
        "  if n%i == 0:\n",
        "    s+=i\n",
        "\n",
        "if(s == n):\n",
        "  print(\"it's a perfect number\")\n",
        "else:\n",
        "  print(\"it's not a perfect number\")"
      ],
      "metadata": {
        "id": "rbY9YkS8kEz0"
      },
      "execution_count": null,
      "outputs": []
    },
    {
      "cell_type": "markdown",
      "source": [
        "### Compute compound interest using loop for a certain principal and interest amount"
      ],
      "metadata": {
        "id": "WTqo1-O-ntol"
      }
    },
    {
      "cell_type": "code",
      "source": [
        "p=int(input(\"enter Amount :\"))\n",
        "r=int(input(\"enter rate :\"))\n",
        "t=int(input(\"enter time :\"))\n",
        "C=p*pow(1+r/100,t)-p\n",
        "print(\"compound intrest :\",C)"
      ],
      "metadata": {
        "id": "YSr1ld46lThW"
      },
      "execution_count": null,
      "outputs": []
    }
  ]
}