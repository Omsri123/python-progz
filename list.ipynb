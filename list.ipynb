{
  "nbformat": 4,
  "nbformat_minor": 0,
  "metadata": {
    "colab": {
      "name": "list.ipynb",
      "provenance": [],
      "authorship_tag": "ABX9TyM6/Ax5/QDy3p+Hvo9NK58C",
      "include_colab_link": true
    },
    "kernelspec": {
      "name": "python3",
      "display_name": "Python 3"
    },
    "language_info": {
      "name": "python"
    }
  },
  "cells": [
    {
      "cell_type": "markdown",
      "metadata": {
        "id": "view-in-github",
        "colab_type": "text"
      },
      "source": [
        "<a href=\"https://colab.research.google.com/github/Omsri123/python-progz/blob/module_1/list.ipynb\" target=\"_parent\"><img src=\"https://colab.research.google.com/assets/colab-badge.svg\" alt=\"Open In Colab\"/></a>"
      ]
    },
    {
      "cell_type": "code",
      "execution_count": 31,
      "metadata": {
        "colab": {
          "base_uri": "https://localhost:8080/"
        },
        "id": "4nRx0-Xj4ayj",
        "outputId": "3e340f7d-c9eb-4ef7-ab65-3224209de7ef"
      },
      "outputs": [
        {
          "output_type": "execute_result",
          "data": {
            "text/plain": [
              "['mango', 'gauva']"
            ]
          },
          "metadata": {},
          "execution_count": 31
        }
      ],
      "source": [
        "fruit=['banana','apple','kiwi','mango','gauva']\n",
        "fruit[3:]"
      ]
    },
    {
      "cell_type": "code",
      "source": [
        "a=[1,2,3,4,5,'hi','kk']\n",
        "b=[3,4,9,55]\n",
        "print(a[3])\n",
        "print(a[0:])\n",
        "print(a[:5])\n",
        "print(a[1:3])\n",
        "print(a[4]+a[2])\n",
        "print(a+b)\n",
        "a.append(5)\n",
        "print(a)"
      ],
      "metadata": {
        "colab": {
          "base_uri": "https://localhost:8080/"
        },
        "id": "axWNfZ6Q8Quw",
        "outputId": "8c694639-ec95-4b6a-e47d-144eefa60a6f"
      },
      "execution_count": 63,
      "outputs": [
        {
          "output_type": "stream",
          "name": "stdout",
          "text": [
            "4\n",
            "[1, 2, 3, 4, 5, 'hi', 'kk']\n",
            "[1, 2, 3, 4, 5]\n",
            "[2, 3]\n",
            "8\n",
            "[1, 2, 3, 4, 5, 'hi', 'kk', 3, 4, 9, 55]\n",
            "[1, 2, 3, 4, 5, 'hi', 'kk', 5]\n"
          ]
        }
      ]
    },
    {
      "cell_type": "code",
      "source": [
        "for i in range (99,9999,9) :\n",
        "  print(i,end='\\n')\n"
      ],
      "metadata": {
        "id": "Wju1QHqa-8cZ"
      },
      "execution_count": null,
      "outputs": []
    },
    {
      "cell_type": "markdown",
      "source": [
        "# Dynamic insert"
      ],
      "metadata": {
        "id": "qqEy6PO0Hz2w"
      }
    },
    {
      "cell_type": "code",
      "source": [
        "a = []\n",
        "for i in range(int(input())):\n",
        "    a.append(int(input()))\n",
        "print(a)"
      ],
      "metadata": {
        "colab": {
          "base_uri": "https://localhost:8080/"
        },
        "id": "gyV5hgWYFhHg",
        "outputId": "a93b0088-2187-4b4d-8d42-2eddd5e460bb"
      },
      "execution_count": 67,
      "outputs": [
        {
          "output_type": "stream",
          "name": "stdout",
          "text": [
            "6\n",
            "4\n",
            "8\n",
            "2\n",
            "1\n",
            "5\n",
            "9\n",
            "[4, 8, 2, 1, 5, 9]\n"
          ]
        }
      ]
    },
    {
      "cell_type": "markdown",
      "source": [
        "# Insert"
      ],
      "metadata": {
        "id": "ggVAz8eUH4_o"
      }
    },
    {
      "cell_type": "code",
      "source": [
        "fruit=['banana','apple','kiwi','mango','gauva']\n",
        "fruit.insert(2,'king')\n",
        "print(fruit)\n",
        "fruit.reverse()\n",
        "print(fruit)\n",
        "fruit.sort()\n",
        "print(fruit)\n",
        "fruit.pop()\n",
        "print(fruit)"
      ],
      "metadata": {
        "colab": {
          "base_uri": "https://localhost:8080/"
        },
        "id": "2pyUaC79G8ao",
        "outputId": "52899167-1713-4a63-ba2d-d66df9856987"
      },
      "execution_count": 83,
      "outputs": [
        {
          "output_type": "stream",
          "name": "stdout",
          "text": [
            "['banana', 'apple', 'king', 'kiwi', 'mango', 'gauva']\n",
            "['gauva', 'mango', 'kiwi', 'king', 'apple', 'banana']\n",
            "['apple', 'banana', 'gauva', 'king', 'kiwi', 'mango']\n",
            "['apple', 'banana', 'gauva', 'king', 'kiwi']\n"
          ]
        }
      ]
    },
    {
      "cell_type": "code",
      "source": [
        "a=input(\"enter my name \")\n",
        "if a=='om' :\n",
        "  print(\"right\")\n",
        "else :\n",
        "  print(\"_______\")\n",
        "  a=input(\"enter my name \")\n",
        "if a=='om' :\n",
        "  print(\"right\")\n",
        "else :\n",
        "  print(\"_______\")\n",
        "  print(\"   |   \")\n",
        "  a=input(\"enter my name \")\n",
        "if a=='om' :\n",
        "  print(\"right\")\n",
        "else :\n",
        "  print(\"_______\")\n",
        "  print(\"   |   \")\n",
        "  print(\"   |   \")\n",
        "  a=input(\"enter my name \")\n",
        "if a=='om' :\n",
        "  print(\"right\")\n",
        "else :\n",
        "  print(\"_______\")\n",
        "  print(\"   |   \")\n",
        "  print(\"   |   \")\n",
        "  print(\"   O   \")\n",
        "  a=input(\"enter my name \")\n",
        "if a=='om' :\n",
        "  print(\"right\")\n",
        "else :\n",
        "  print(\"_______\")\n",
        "  print(\"   |   \")\n",
        "  print(\"   |   \")\n",
        "  print(\"   O   \")\n",
        "  print(\"   |   \")\n",
        "  a=input(\"enter my name \")\n",
        "if a=='om' :\n",
        "  print(\"right\")\n",
        "else :\n",
        "  print(\"_______\")\n",
        "  print(\"   |   \")\n",
        "  print(\"   |   \")\n",
        "  print(\"   O   \")\n",
        "  print(\"   |   \")\n",
        "  print(\"  /|\\   \")\n",
        "  a=input(\"enter my name \")\n",
        "if a=='om' :\n",
        "  print(\"right\")\n",
        "else :\n",
        "  print(\"_______\")\n",
        "  print(\"   |   \")\n",
        "  print(\"   |   \")\n",
        "  print(\"   O   \")\n",
        "  print(\"   |   \")\n",
        "  print(\"  /|\\   \")\n",
        "  print(\"   |   \")\n",
        "  a=input(\"enter my name \")\n",
        "if a=='om' :\n",
        "  print(\"right\")\n",
        "else :\n",
        "  print(\"_______\")\n",
        "  print(\"   |   \")\n",
        "  print(\"   |   \")\n",
        "  print(\"   O   \")\n",
        "  print(\"   |   \")\n",
        "  print(\"  /|\\   \")\n",
        "  print(\"   |   \")\n",
        "  print(\"  /|\\   \")"
      ],
      "metadata": {
        "colab": {
          "base_uri": "https://localhost:8080/"
        },
        "id": "YRS2pI35LLlo",
        "outputId": "922fdf2c-885f-4995-cfd8-fa6fa8f57f18"
      },
      "execution_count": 92,
      "outputs": [
        {
          "output_type": "stream",
          "name": "stdout",
          "text": [
            "enter my name sam\n",
            "_______\n",
            "enter my name sa\n",
            "_______\n",
            "   |   \n",
            "enter my name sa\n",
            "_______\n",
            "   |   \n",
            "   |   \n",
            "enter my name sa\n",
            "_______\n",
            "   |   \n",
            "   |   \n",
            "   O   \n",
            "enter my name sa\n",
            "_______\n",
            "   |   \n",
            "   |   \n",
            "   O   \n",
            "   |   \n",
            "enter my name sa\n",
            "_______\n",
            "   |   \n",
            "   |   \n",
            "   O   \n",
            "   |   \n",
            "  /|\\   \n",
            "enter my name sa\n",
            "_______\n",
            "   |   \n",
            "   |   \n",
            "   O   \n",
            "   |   \n",
            "  /|\\   \n",
            "   |   \n",
            "enter my name sa\n",
            "_______\n",
            "   |   \n",
            "   |   \n",
            "   O   \n",
            "   |   \n",
            "  /|\\   \n",
            "   |   \n",
            "  /|\\   \n"
          ]
        }
      ]
    }
  ]
}